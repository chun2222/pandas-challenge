{
 "cells": [
  {
   "cell_type": "markdown",
   "metadata": {},
   "source": [
    "### Note\n",
    "* Instructions have been included for each segment. You do not have to follow them exactly, but they are included to help you think through the steps."
   ]
  },
  {
   "cell_type": "code",
   "execution_count": 1,
   "metadata": {},
   "outputs": [],
   "source": [
    "# Dependencies and Setup\n",
    "import pandas as pd\n",
    "\n",
    "# File to Load (Remember to Change These)\n",
    "file_to_load = \"Resources/purchase_data.csv\"\n",
    "\n",
    "# Read Purchasing File and store into Pandas data frame\n",
    "purchase_data = pd.read_csv(file_to_load)"
   ]
  },
  {
   "cell_type": "code",
   "execution_count": 2,
   "metadata": {},
   "outputs": [
    {
     "data": {
      "text/html": [
       "<div>\n",
       "<style scoped>\n",
       "    .dataframe tbody tr th:only-of-type {\n",
       "        vertical-align: middle;\n",
       "    }\n",
       "\n",
       "    .dataframe tbody tr th {\n",
       "        vertical-align: top;\n",
       "    }\n",
       "\n",
       "    .dataframe thead th {\n",
       "        text-align: right;\n",
       "    }\n",
       "</style>\n",
       "<table border=\"1\" class=\"dataframe\">\n",
       "  <thead>\n",
       "    <tr style=\"text-align: right;\">\n",
       "      <th></th>\n",
       "      <th>Purchase ID</th>\n",
       "      <th>SN</th>\n",
       "      <th>Age</th>\n",
       "      <th>Gender</th>\n",
       "      <th>Item ID</th>\n",
       "      <th>Item Name</th>\n",
       "      <th>Price</th>\n",
       "    </tr>\n",
       "  </thead>\n",
       "  <tbody>\n",
       "    <tr>\n",
       "      <th>0</th>\n",
       "      <td>0</td>\n",
       "      <td>Lisim78</td>\n",
       "      <td>20</td>\n",
       "      <td>Male</td>\n",
       "      <td>108</td>\n",
       "      <td>Extraction, Quickblade Of Trembling Hands</td>\n",
       "      <td>3.53</td>\n",
       "    </tr>\n",
       "    <tr>\n",
       "      <th>1</th>\n",
       "      <td>1</td>\n",
       "      <td>Lisovynya38</td>\n",
       "      <td>40</td>\n",
       "      <td>Male</td>\n",
       "      <td>143</td>\n",
       "      <td>Frenzied Scimitar</td>\n",
       "      <td>1.56</td>\n",
       "    </tr>\n",
       "    <tr>\n",
       "      <th>2</th>\n",
       "      <td>2</td>\n",
       "      <td>Ithergue48</td>\n",
       "      <td>24</td>\n",
       "      <td>Male</td>\n",
       "      <td>92</td>\n",
       "      <td>Final Critic</td>\n",
       "      <td>4.88</td>\n",
       "    </tr>\n",
       "    <tr>\n",
       "      <th>3</th>\n",
       "      <td>3</td>\n",
       "      <td>Chamassasya86</td>\n",
       "      <td>24</td>\n",
       "      <td>Male</td>\n",
       "      <td>100</td>\n",
       "      <td>Blindscythe</td>\n",
       "      <td>3.27</td>\n",
       "    </tr>\n",
       "    <tr>\n",
       "      <th>4</th>\n",
       "      <td>4</td>\n",
       "      <td>Iskosia90</td>\n",
       "      <td>23</td>\n",
       "      <td>Male</td>\n",
       "      <td>131</td>\n",
       "      <td>Fury</td>\n",
       "      <td>1.44</td>\n",
       "    </tr>\n",
       "  </tbody>\n",
       "</table>\n",
       "</div>"
      ],
      "text/plain": [
       "   Purchase ID             SN  Age Gender  Item ID  \\\n",
       "0            0        Lisim78   20   Male      108   \n",
       "1            1    Lisovynya38   40   Male      143   \n",
       "2            2     Ithergue48   24   Male       92   \n",
       "3            3  Chamassasya86   24   Male      100   \n",
       "4            4      Iskosia90   23   Male      131   \n",
       "\n",
       "                                   Item Name  Price  \n",
       "0  Extraction, Quickblade Of Trembling Hands   3.53  \n",
       "1                          Frenzied Scimitar   1.56  \n",
       "2                               Final Critic   4.88  \n",
       "3                                Blindscythe   3.27  \n",
       "4                                       Fury   1.44  "
      ]
     },
     "execution_count": 2,
     "metadata": {},
     "output_type": "execute_result"
    }
   ],
   "source": [
    "purchase_data.head()"
   ]
  },
  {
   "cell_type": "markdown",
   "metadata": {},
   "source": [
    "## Player Count"
   ]
  },
  {
   "cell_type": "markdown",
   "metadata": {},
   "source": [
    "* Display the total number of players"
   ]
  },
  {
   "cell_type": "code",
   "execution_count": 3,
   "metadata": {},
   "outputs": [
    {
     "data": {
      "text/html": [
       "<div>\n",
       "<style scoped>\n",
       "    .dataframe tbody tr th:only-of-type {\n",
       "        vertical-align: middle;\n",
       "    }\n",
       "\n",
       "    .dataframe tbody tr th {\n",
       "        vertical-align: top;\n",
       "    }\n",
       "\n",
       "    .dataframe thead th {\n",
       "        text-align: right;\n",
       "    }\n",
       "</style>\n",
       "<table border=\"1\" class=\"dataframe\">\n",
       "  <thead>\n",
       "    <tr style=\"text-align: right;\">\n",
       "      <th></th>\n",
       "      <th>Total Players</th>\n",
       "    </tr>\n",
       "  </thead>\n",
       "  <tbody>\n",
       "    <tr>\n",
       "      <th>0</th>\n",
       "      <td>576</td>\n",
       "    </tr>\n",
       "  </tbody>\n",
       "</table>\n",
       "</div>"
      ],
      "text/plain": [
       "   Total Players\n",
       "0            576"
      ]
     },
     "execution_count": 3,
     "metadata": {},
     "output_type": "execute_result"
    }
   ],
   "source": [
    "#list on plays informatio\n",
    "players_info = purchase_data.loc[:,[\"SN\", \"Age\", \"Gender\"]]\n",
    "\n",
    "#drop the duplicated row\n",
    "players_info = players_info.drop_duplicates()\n",
    "#total number of players\n",
    "total_players = players_info.count()[0]\n",
    "\n",
    "pd.DataFrame({\"Total Players\": [total_players]})"
   ]
  },
  {
   "cell_type": "markdown",
   "metadata": {},
   "source": [
    "## Purchasing Analysis (Total)"
   ]
  },
  {
   "cell_type": "markdown",
   "metadata": {},
   "source": [
    "* Run basic calculations to obtain number of unique items, average price, etc.\n",
    "\n",
    "\n",
    "* Create a summary data frame to hold the results\n",
    "\n",
    "\n",
    "* Optional: give the displayed data cleaner formatting\n",
    "\n",
    "\n",
    "* Display the summary data frame\n"
   ]
  },
  {
   "cell_type": "code",
   "execution_count": 4,
   "metadata": {
    "scrolled": true
   },
   "outputs": [
    {
     "data": {
      "text/html": [
       "<style  type=\"text/css\" >\n",
       "</style><table id=\"T_6b74600a_3d27_11eb_94d1_302432edff6b\" ><thead>    <tr>        <th class=\"blank level0\" ></th>        <th class=\"col_heading level0 col0\" >Number of Unique Items</th>        <th class=\"col_heading level0 col1\" >Average Price</th>        <th class=\"col_heading level0 col2\" >Number of Purchases</th>        <th class=\"col_heading level0 col3\" >Total Revenue</th>    </tr></thead><tbody>\n",
       "                <tr>\n",
       "                        <th id=\"T_6b74600a_3d27_11eb_94d1_302432edff6blevel0_row0\" class=\"row_heading level0 row0\" >0</th>\n",
       "                        <td id=\"T_6b74600a_3d27_11eb_94d1_302432edff6brow0_col0\" class=\"data row0 col0\" >179</td>\n",
       "                        <td id=\"T_6b74600a_3d27_11eb_94d1_302432edff6brow0_col1\" class=\"data row0 col1\" >$3.05</td>\n",
       "                        <td id=\"T_6b74600a_3d27_11eb_94d1_302432edff6brow0_col2\" class=\"data row0 col2\" >780</td>\n",
       "                        <td id=\"T_6b74600a_3d27_11eb_94d1_302432edff6brow0_col3\" class=\"data row0 col3\" >$2,379.77</td>\n",
       "            </tr>\n",
       "    </tbody></table>"
      ],
      "text/plain": [
       "<pandas.io.formats.style.Styler at 0x13b1b040c18>"
      ]
     },
     "execution_count": 4,
     "metadata": {},
     "output_type": "execute_result"
    }
   ],
   "source": [
    "#calculate number of unique items. average purchase price, total number of purchases and total revenue \n",
    "Number_of_Unique_Items = len((purchase_data[\"Item ID\"]).unique())\n",
    "Average_Purchase_Price = (purchase_data[\"Price\"]).mean()\n",
    "Total_Number_of_Purchases = (purchase_data[\"Purchase ID\"]).count()\n",
    "Total_Revenue = (purchase_data[\"Price\"]).sum()\n",
    "\n",
    "#create a summary table\n",
    "table_df = pd.DataFrame({\"Number of Unique Items\":[Number_of_Unique_Items], \n",
    "                         \"Average Price\":[Average_Purchase_Price], \n",
    "                         \"Number of Purchases\":[Total_Number_of_Purchases], \n",
    "                         \"Total Revenue\":[Total_Revenue]})\n",
    "\n",
    "#Format data with proper style\n",
    "table_df.style.format({'Average Price':\"${:,.2f}\",\n",
    "                         'Total Revenue': '${:,.2f}'})"
   ]
  },
  {
   "cell_type": "markdown",
   "metadata": {},
   "source": [
    "## Gender Demographics"
   ]
  },
  {
   "cell_type": "markdown",
   "metadata": {},
   "source": [
    "* Percentage and Count of Male Players\n",
    "\n",
    "\n",
    "* Percentage and Count of Female Players\n",
    "\n",
    "\n",
    "* Percentage and Count of Other / Non-Disclosed\n",
    "\n",
    "\n"
   ]
  },
  {
   "cell_type": "code",
   "execution_count": 5,
   "metadata": {},
   "outputs": [
    {
     "data": {
      "text/html": [
       "<style  type=\"text/css\" >\n",
       "</style><table id=\"T_6b7b10b8_3d27_11eb_be34_302432edff6b\" ><thead>    <tr>        <th class=\"blank level0\" ></th>        <th class=\"col_heading level0 col0\" >Total Count</th>        <th class=\"col_heading level0 col1\" >Percentage of Players</th>    </tr></thead><tbody>\n",
       "                <tr>\n",
       "                        <th id=\"T_6b7b10b8_3d27_11eb_be34_302432edff6blevel0_row0\" class=\"row_heading level0 row0\" >Male</th>\n",
       "                        <td id=\"T_6b7b10b8_3d27_11eb_be34_302432edff6brow0_col0\" class=\"data row0 col0\" >484</td>\n",
       "                        <td id=\"T_6b7b10b8_3d27_11eb_be34_302432edff6brow0_col1\" class=\"data row0 col1\" >84.03%</td>\n",
       "            </tr>\n",
       "            <tr>\n",
       "                        <th id=\"T_6b7b10b8_3d27_11eb_be34_302432edff6blevel0_row1\" class=\"row_heading level0 row1\" >Female</th>\n",
       "                        <td id=\"T_6b7b10b8_3d27_11eb_be34_302432edff6brow1_col0\" class=\"data row1 col0\" >81</td>\n",
       "                        <td id=\"T_6b7b10b8_3d27_11eb_be34_302432edff6brow1_col1\" class=\"data row1 col1\" >14.06%</td>\n",
       "            </tr>\n",
       "            <tr>\n",
       "                        <th id=\"T_6b7b10b8_3d27_11eb_be34_302432edff6blevel0_row2\" class=\"row_heading level0 row2\" >Other / Non-Disclosed</th>\n",
       "                        <td id=\"T_6b7b10b8_3d27_11eb_be34_302432edff6brow2_col0\" class=\"data row2 col0\" >11</td>\n",
       "                        <td id=\"T_6b7b10b8_3d27_11eb_be34_302432edff6brow2_col1\" class=\"data row2 col1\" >1.91%</td>\n",
       "            </tr>\n",
       "    </tbody></table>"
      ],
      "text/plain": [
       "<pandas.io.formats.style.Styler at 0x13b1c0f40b8>"
      ]
     },
     "execution_count": 5,
     "metadata": {},
     "output_type": "execute_result"
    }
   ],
   "source": [
    "# Group by Gender\n",
    "gender_info = purchase_data.groupby(\"Gender\")\n",
    "\n",
    "# total number of gender by SN\n",
    "total_number_gender = gender_info.nunique()[\"SN\"]\n",
    "\n",
    "# Percentage of players\n",
    "percentage_of_players = total_number_gender / total_players * 100\n",
    "\n",
    "# Create data frame for percetage and total count\n",
    "gender_demographics = pd.DataFrame({\"Total Count\": total_number_gender, \n",
    "                                    \"Percentage of Players\": percentage_of_players})\n",
    "\n",
    "# clean index name\n",
    "gender_demographics.index.name = None\n",
    "\n",
    "# format to descending order, 2 decimals point and add percentage sign\n",
    "gender_demographics.sort_values([\"Total Count\"], ascending = False).style.format({\"Percentage of Players\":\"{:.2f}%\"})"
   ]
  },
  {
   "cell_type": "markdown",
   "metadata": {},
   "source": [
    "\n",
    "## Purchasing Analysis (Gender)"
   ]
  },
  {
   "cell_type": "markdown",
   "metadata": {},
   "source": [
    "* Run basic calculations to obtain purchase count, avg. purchase price, avg. purchase total per person etc. by gender\n",
    "\n",
    "\n",
    "\n",
    "\n",
    "* Create a summary data frame to hold the results\n",
    "\n",
    "\n",
    "* Optional: give the displayed data cleaner formatting\n",
    "\n",
    "\n",
    "* Display the summary data frame"
   ]
  },
  {
   "cell_type": "code",
   "execution_count": 6,
   "metadata": {},
   "outputs": [
    {
     "data": {
      "text/html": [
       "<style  type=\"text/css\" >\n",
       "</style><table id=\"T_6b7d813e_3d27_11eb_bc67_302432edff6b\" ><thead>    <tr>        <th class=\"blank level0\" ></th>        <th class=\"col_heading level0 col0\" >Purchase Count</th>        <th class=\"col_heading level0 col1\" >Average Purchase Price</th>        <th class=\"col_heading level0 col2\" >Average Purchase Value</th>        <th class=\"col_heading level0 col3\" >Avg Purchase Total per Person</th>    </tr>    <tr>        <th class=\"index_name level0\" >Gender</th>        <th class=\"blank\" ></th>        <th class=\"blank\" ></th>        <th class=\"blank\" ></th>        <th class=\"blank\" ></th>    </tr></thead><tbody>\n",
       "                <tr>\n",
       "                        <th id=\"T_6b7d813e_3d27_11eb_bc67_302432edff6blevel0_row0\" class=\"row_heading level0 row0\" >Female</th>\n",
       "                        <td id=\"T_6b7d813e_3d27_11eb_bc67_302432edff6brow0_col0\" class=\"data row0 col0\" >113</td>\n",
       "                        <td id=\"T_6b7d813e_3d27_11eb_bc67_302432edff6brow0_col1\" class=\"data row0 col1\" >$3.20</td>\n",
       "                        <td id=\"T_6b7d813e_3d27_11eb_bc67_302432edff6brow0_col2\" class=\"data row0 col2\" >$361.94</td>\n",
       "                        <td id=\"T_6b7d813e_3d27_11eb_bc67_302432edff6brow0_col3\" class=\"data row0 col3\" >$4.47</td>\n",
       "            </tr>\n",
       "            <tr>\n",
       "                        <th id=\"T_6b7d813e_3d27_11eb_bc67_302432edff6blevel0_row1\" class=\"row_heading level0 row1\" >Male</th>\n",
       "                        <td id=\"T_6b7d813e_3d27_11eb_bc67_302432edff6brow1_col0\" class=\"data row1 col0\" >652</td>\n",
       "                        <td id=\"T_6b7d813e_3d27_11eb_bc67_302432edff6brow1_col1\" class=\"data row1 col1\" >$3.02</td>\n",
       "                        <td id=\"T_6b7d813e_3d27_11eb_bc67_302432edff6brow1_col2\" class=\"data row1 col2\" >$1,967.64</td>\n",
       "                        <td id=\"T_6b7d813e_3d27_11eb_bc67_302432edff6brow1_col3\" class=\"data row1 col3\" >$4.07</td>\n",
       "            </tr>\n",
       "            <tr>\n",
       "                        <th id=\"T_6b7d813e_3d27_11eb_bc67_302432edff6blevel0_row2\" class=\"row_heading level0 row2\" >Other / Non-Disclosed</th>\n",
       "                        <td id=\"T_6b7d813e_3d27_11eb_bc67_302432edff6brow2_col0\" class=\"data row2 col0\" >15</td>\n",
       "                        <td id=\"T_6b7d813e_3d27_11eb_bc67_302432edff6brow2_col1\" class=\"data row2 col1\" >$3.35</td>\n",
       "                        <td id=\"T_6b7d813e_3d27_11eb_bc67_302432edff6brow2_col2\" class=\"data row2 col2\" >$50.19</td>\n",
       "                        <td id=\"T_6b7d813e_3d27_11eb_bc67_302432edff6brow2_col3\" class=\"data row2 col3\" >$4.56</td>\n",
       "            </tr>\n",
       "    </tbody></table>"
      ],
      "text/plain": [
       "<pandas.io.formats.style.Styler at 0x13b1c0c5f28>"
      ]
     },
     "execution_count": 6,
     "metadata": {},
     "output_type": "execute_result"
    }
   ],
   "source": [
    "#number of purchase by gender \n",
    "purchase_count = gender_info[\"Purchase ID\"].count()\n",
    "\n",
    "# Average purchase prices by gender\n",
    "avg_purchase_price = gender_info[\"Price\"].mean()\n",
    "\n",
    "# Average total purchase by gender \n",
    "avg_total_purchase = gender_info[\"Price\"].sum()\n",
    "\n",
    "# average total purchase divided by total number of gender\n",
    "avg_purchase_per_person = avg_total_purchase/total_number_gender\n",
    "\n",
    "# Create data frame with obtained values \n",
    "gender_demographics = pd.DataFrame({\"Purchase Count\": purchase_count, \n",
    "                                    \"Average Purchase Price\": avg_purchase_price,\n",
    "                                    \"Average Purchase Value\":avg_total_purchase,\n",
    "                                    \"Avg Purchase Total per Person\": avg_purchase_per_person})\n",
    "\n",
    "# add \"gender as title\"\n",
    "gender_demographics.index.name = \"Gender\"\n",
    "\n",
    "# add dollar sign to price and average purchage\n",
    "gender_demographics.style.format({\"Average Purchase Value\":\"${:,.2f}\",\n",
    "                                  \"Average Purchase Price\":\"${:,.2f}\",\n",
    "                                  \"Avg Purchase Total per Person\":\"${:,.2f}\"})"
   ]
  },
  {
   "cell_type": "markdown",
   "metadata": {},
   "source": [
    "## Age Demographics"
   ]
  },
  {
   "cell_type": "markdown",
   "metadata": {},
   "source": [
    "* Establish bins for ages\n",
    "\n",
    "\n",
    "* Categorize the existing players using the age bins. Hint: use pd.cut()\n",
    "\n",
    "\n",
    "* Calculate the numbers and percentages by age group\n",
    "\n",
    "\n",
    "* Create a summary data frame to hold the results\n",
    "\n",
    "\n",
    "* Optional: round the percentage column to two decimal points\n",
    "\n",
    "\n",
    "* Display Age Demographics Table\n"
   ]
  },
  {
   "cell_type": "code",
   "execution_count": 7,
   "metadata": {},
   "outputs": [
    {
     "data": {
      "text/html": [
       "<style  type=\"text/css\" >\n",
       "</style><table id=\"T_6b8285ba_3d27_11eb_a2a7_302432edff6b\" ><thead>    <tr>        <th class=\"blank level0\" ></th>        <th class=\"col_heading level0 col0\" >Total Count</th>        <th class=\"col_heading level0 col1\" >Percentage of Players</th>    </tr></thead><tbody>\n",
       "                <tr>\n",
       "                        <th id=\"T_6b8285ba_3d27_11eb_a2a7_302432edff6blevel0_row0\" class=\"row_heading level0 row0\" ><10</th>\n",
       "                        <td id=\"T_6b8285ba_3d27_11eb_a2a7_302432edff6brow0_col0\" class=\"data row0 col0\" >17</td>\n",
       "                        <td id=\"T_6b8285ba_3d27_11eb_a2a7_302432edff6brow0_col1\" class=\"data row0 col1\" >2.95%</td>\n",
       "            </tr>\n",
       "            <tr>\n",
       "                        <th id=\"T_6b8285ba_3d27_11eb_a2a7_302432edff6blevel0_row1\" class=\"row_heading level0 row1\" >10-14</th>\n",
       "                        <td id=\"T_6b8285ba_3d27_11eb_a2a7_302432edff6brow1_col0\" class=\"data row1 col0\" >22</td>\n",
       "                        <td id=\"T_6b8285ba_3d27_11eb_a2a7_302432edff6brow1_col1\" class=\"data row1 col1\" >3.82%</td>\n",
       "            </tr>\n",
       "            <tr>\n",
       "                        <th id=\"T_6b8285ba_3d27_11eb_a2a7_302432edff6blevel0_row2\" class=\"row_heading level0 row2\" >15-19</th>\n",
       "                        <td id=\"T_6b8285ba_3d27_11eb_a2a7_302432edff6brow2_col0\" class=\"data row2 col0\" >107</td>\n",
       "                        <td id=\"T_6b8285ba_3d27_11eb_a2a7_302432edff6brow2_col1\" class=\"data row2 col1\" >18.58%</td>\n",
       "            </tr>\n",
       "            <tr>\n",
       "                        <th id=\"T_6b8285ba_3d27_11eb_a2a7_302432edff6blevel0_row3\" class=\"row_heading level0 row3\" >20-24</th>\n",
       "                        <td id=\"T_6b8285ba_3d27_11eb_a2a7_302432edff6brow3_col0\" class=\"data row3 col0\" >258</td>\n",
       "                        <td id=\"T_6b8285ba_3d27_11eb_a2a7_302432edff6brow3_col1\" class=\"data row3 col1\" >44.79%</td>\n",
       "            </tr>\n",
       "            <tr>\n",
       "                        <th id=\"T_6b8285ba_3d27_11eb_a2a7_302432edff6blevel0_row4\" class=\"row_heading level0 row4\" >25-29</th>\n",
       "                        <td id=\"T_6b8285ba_3d27_11eb_a2a7_302432edff6brow4_col0\" class=\"data row4 col0\" >77</td>\n",
       "                        <td id=\"T_6b8285ba_3d27_11eb_a2a7_302432edff6brow4_col1\" class=\"data row4 col1\" >13.37%</td>\n",
       "            </tr>\n",
       "            <tr>\n",
       "                        <th id=\"T_6b8285ba_3d27_11eb_a2a7_302432edff6blevel0_row5\" class=\"row_heading level0 row5\" >30-34</th>\n",
       "                        <td id=\"T_6b8285ba_3d27_11eb_a2a7_302432edff6brow5_col0\" class=\"data row5 col0\" >52</td>\n",
       "                        <td id=\"T_6b8285ba_3d27_11eb_a2a7_302432edff6brow5_col1\" class=\"data row5 col1\" >9.03%</td>\n",
       "            </tr>\n",
       "            <tr>\n",
       "                        <th id=\"T_6b8285ba_3d27_11eb_a2a7_302432edff6blevel0_row6\" class=\"row_heading level0 row6\" >35-39</th>\n",
       "                        <td id=\"T_6b8285ba_3d27_11eb_a2a7_302432edff6brow6_col0\" class=\"data row6 col0\" >31</td>\n",
       "                        <td id=\"T_6b8285ba_3d27_11eb_a2a7_302432edff6brow6_col1\" class=\"data row6 col1\" >5.38%</td>\n",
       "            </tr>\n",
       "            <tr>\n",
       "                        <th id=\"T_6b8285ba_3d27_11eb_a2a7_302432edff6blevel0_row7\" class=\"row_heading level0 row7\" >40+</th>\n",
       "                        <td id=\"T_6b8285ba_3d27_11eb_a2a7_302432edff6brow7_col0\" class=\"data row7 col0\" >12</td>\n",
       "                        <td id=\"T_6b8285ba_3d27_11eb_a2a7_302432edff6brow7_col1\" class=\"data row7 col1\" >2.08%</td>\n",
       "            </tr>\n",
       "    </tbody></table>"
      ],
      "text/plain": [
       "<pandas.io.formats.style.Styler at 0x13b1c133f28>"
      ]
     },
     "execution_count": 7,
     "metadata": {},
     "output_type": "execute_result"
    }
   ],
   "source": [
    "bins = [0, 9.90, 14.90, 19.90, 24.90, 29.90, 34.90, 39.90, 100]\n",
    "group_names = [\"<10\", \"10-14\", \"15-19\", \"20-24\", \"25-29\", \"30-34\", \"35-39\", \"40+\"]\n",
    "\n",
    "# sort age data into bins\n",
    "purchase_data[\"Age Group\"] = pd.cut(purchase_data[\"Age\"],bins, labels=group_names)\n",
    "purchase_data\n",
    "\n",
    "# new data frame for age group\n",
    "age_group = purchase_data.groupby(\"Age Group\")\n",
    "\n",
    "# number of total players by different age group\n",
    "age_total_count = age_group[\"SN\"].nunique()\n",
    "\n",
    "# percentage of different age group \n",
    "age_percentage = (age_total_count/total_players) * 100\n",
    "\n",
    "# data frame for total count and percentage of players\n",
    "age_demographics = pd.DataFrame({\"Total Count\": age_total_count, \"Percentage of Players\": age_percentage})\n",
    "\n",
    "# format index name\n",
    "age_demographics.index.name = None\n",
    "\n",
    "# Format data with percentage and 2 decimals point\n",
    "age_demographics.style.format({\"Percentage of Players\":\"{:,.2f}%\"})"
   ]
  },
  {
   "cell_type": "markdown",
   "metadata": {},
   "source": [
    "## Purchasing Analysis (Age)"
   ]
  },
  {
   "cell_type": "markdown",
   "metadata": {},
   "source": [
    "* Bin the purchase_data data frame by age\n",
    "\n",
    "\n",
    "* Run basic calculations to obtain purchase count, avg. purchase price, avg. purchase total per person etc. in the table below\n",
    "\n",
    "\n",
    "* Create a summary data frame to hold the results\n",
    "\n",
    "\n",
    "* Optional: give the displayed data cleaner formatting\n",
    "\n",
    "\n",
    "* Display the summary data frame"
   ]
  },
  {
   "cell_type": "code",
   "execution_count": 8,
   "metadata": {},
   "outputs": [
    {
     "data": {
      "text/html": [
       "<style  type=\"text/css\" >\n",
       "</style><table id=\"T_6b867a8a_3d27_11eb_b233_302432edff6b\" ><thead>    <tr>        <th class=\"blank level0\" ></th>        <th class=\"col_heading level0 col0\" >Purchase Count</th>        <th class=\"col_heading level0 col1\" >Average Purchase Price</th>        <th class=\"col_heading level0 col2\" >Total Purchase Value</th>        <th class=\"col_heading level0 col3\" >Average Purchase Total per Person</th>    </tr>    <tr>        <th class=\"index_name level0\" >Age Ranges</th>        <th class=\"blank\" ></th>        <th class=\"blank\" ></th>        <th class=\"blank\" ></th>        <th class=\"blank\" ></th>    </tr></thead><tbody>\n",
       "                <tr>\n",
       "                        <th id=\"T_6b867a8a_3d27_11eb_b233_302432edff6blevel0_row0\" class=\"row_heading level0 row0\" ><10</th>\n",
       "                        <td id=\"T_6b867a8a_3d27_11eb_b233_302432edff6brow0_col0\" class=\"data row0 col0\" >23</td>\n",
       "                        <td id=\"T_6b867a8a_3d27_11eb_b233_302432edff6brow0_col1\" class=\"data row0 col1\" >$3.35</td>\n",
       "                        <td id=\"T_6b867a8a_3d27_11eb_b233_302432edff6brow0_col2\" class=\"data row0 col2\" >$77.13</td>\n",
       "                        <td id=\"T_6b867a8a_3d27_11eb_b233_302432edff6brow0_col3\" class=\"data row0 col3\" >$4.54</td>\n",
       "            </tr>\n",
       "            <tr>\n",
       "                        <th id=\"T_6b867a8a_3d27_11eb_b233_302432edff6blevel0_row1\" class=\"row_heading level0 row1\" >10-14</th>\n",
       "                        <td id=\"T_6b867a8a_3d27_11eb_b233_302432edff6brow1_col0\" class=\"data row1 col0\" >28</td>\n",
       "                        <td id=\"T_6b867a8a_3d27_11eb_b233_302432edff6brow1_col1\" class=\"data row1 col1\" >$2.96</td>\n",
       "                        <td id=\"T_6b867a8a_3d27_11eb_b233_302432edff6brow1_col2\" class=\"data row1 col2\" >$82.78</td>\n",
       "                        <td id=\"T_6b867a8a_3d27_11eb_b233_302432edff6brow1_col3\" class=\"data row1 col3\" >$3.76</td>\n",
       "            </tr>\n",
       "            <tr>\n",
       "                        <th id=\"T_6b867a8a_3d27_11eb_b233_302432edff6blevel0_row2\" class=\"row_heading level0 row2\" >15-19</th>\n",
       "                        <td id=\"T_6b867a8a_3d27_11eb_b233_302432edff6brow2_col0\" class=\"data row2 col0\" >136</td>\n",
       "                        <td id=\"T_6b867a8a_3d27_11eb_b233_302432edff6brow2_col1\" class=\"data row2 col1\" >$3.04</td>\n",
       "                        <td id=\"T_6b867a8a_3d27_11eb_b233_302432edff6brow2_col2\" class=\"data row2 col2\" >$412.89</td>\n",
       "                        <td id=\"T_6b867a8a_3d27_11eb_b233_302432edff6brow2_col3\" class=\"data row2 col3\" >$3.86</td>\n",
       "            </tr>\n",
       "            <tr>\n",
       "                        <th id=\"T_6b867a8a_3d27_11eb_b233_302432edff6blevel0_row3\" class=\"row_heading level0 row3\" >20-24</th>\n",
       "                        <td id=\"T_6b867a8a_3d27_11eb_b233_302432edff6brow3_col0\" class=\"data row3 col0\" >365</td>\n",
       "                        <td id=\"T_6b867a8a_3d27_11eb_b233_302432edff6brow3_col1\" class=\"data row3 col1\" >$3.05</td>\n",
       "                        <td id=\"T_6b867a8a_3d27_11eb_b233_302432edff6brow3_col2\" class=\"data row3 col2\" >$1,114.06</td>\n",
       "                        <td id=\"T_6b867a8a_3d27_11eb_b233_302432edff6brow3_col3\" class=\"data row3 col3\" >$4.32</td>\n",
       "            </tr>\n",
       "            <tr>\n",
       "                        <th id=\"T_6b867a8a_3d27_11eb_b233_302432edff6blevel0_row4\" class=\"row_heading level0 row4\" >25-29</th>\n",
       "                        <td id=\"T_6b867a8a_3d27_11eb_b233_302432edff6brow4_col0\" class=\"data row4 col0\" >101</td>\n",
       "                        <td id=\"T_6b867a8a_3d27_11eb_b233_302432edff6brow4_col1\" class=\"data row4 col1\" >$2.90</td>\n",
       "                        <td id=\"T_6b867a8a_3d27_11eb_b233_302432edff6brow4_col2\" class=\"data row4 col2\" >$293.00</td>\n",
       "                        <td id=\"T_6b867a8a_3d27_11eb_b233_302432edff6brow4_col3\" class=\"data row4 col3\" >$3.81</td>\n",
       "            </tr>\n",
       "            <tr>\n",
       "                        <th id=\"T_6b867a8a_3d27_11eb_b233_302432edff6blevel0_row5\" class=\"row_heading level0 row5\" >30-34</th>\n",
       "                        <td id=\"T_6b867a8a_3d27_11eb_b233_302432edff6brow5_col0\" class=\"data row5 col0\" >73</td>\n",
       "                        <td id=\"T_6b867a8a_3d27_11eb_b233_302432edff6brow5_col1\" class=\"data row5 col1\" >$2.93</td>\n",
       "                        <td id=\"T_6b867a8a_3d27_11eb_b233_302432edff6brow5_col2\" class=\"data row5 col2\" >$214.00</td>\n",
       "                        <td id=\"T_6b867a8a_3d27_11eb_b233_302432edff6brow5_col3\" class=\"data row5 col3\" >$4.12</td>\n",
       "            </tr>\n",
       "            <tr>\n",
       "                        <th id=\"T_6b867a8a_3d27_11eb_b233_302432edff6blevel0_row6\" class=\"row_heading level0 row6\" >35-39</th>\n",
       "                        <td id=\"T_6b867a8a_3d27_11eb_b233_302432edff6brow6_col0\" class=\"data row6 col0\" >41</td>\n",
       "                        <td id=\"T_6b867a8a_3d27_11eb_b233_302432edff6brow6_col1\" class=\"data row6 col1\" >$3.60</td>\n",
       "                        <td id=\"T_6b867a8a_3d27_11eb_b233_302432edff6brow6_col2\" class=\"data row6 col2\" >$147.67</td>\n",
       "                        <td id=\"T_6b867a8a_3d27_11eb_b233_302432edff6brow6_col3\" class=\"data row6 col3\" >$4.76</td>\n",
       "            </tr>\n",
       "            <tr>\n",
       "                        <th id=\"T_6b867a8a_3d27_11eb_b233_302432edff6blevel0_row7\" class=\"row_heading level0 row7\" >40+</th>\n",
       "                        <td id=\"T_6b867a8a_3d27_11eb_b233_302432edff6brow7_col0\" class=\"data row7 col0\" >13</td>\n",
       "                        <td id=\"T_6b867a8a_3d27_11eb_b233_302432edff6brow7_col1\" class=\"data row7 col1\" >$2.94</td>\n",
       "                        <td id=\"T_6b867a8a_3d27_11eb_b233_302432edff6brow7_col2\" class=\"data row7 col2\" >$38.24</td>\n",
       "                        <td id=\"T_6b867a8a_3d27_11eb_b233_302432edff6brow7_col3\" class=\"data row7 col3\" >$3.19</td>\n",
       "            </tr>\n",
       "    </tbody></table>"
      ],
      "text/plain": [
       "<pandas.io.formats.style.Styler at 0x13b1c133940>"
      ]
     },
     "execution_count": 8,
     "metadata": {},
     "output_type": "execute_result"
    }
   ],
   "source": [
    "# number of purchase by age\n",
    "purchase_count_age = age_group[\"Purchase ID\"].count()\n",
    "\n",
    "# average purchase price in different age group\n",
    "avg_purchase_price_age = age_group[\"Price\"].mean()\n",
    "\n",
    "# total purchase value in different age group \n",
    "total_purchase_value = age_group[\"Price\"].sum()\n",
    "\n",
    "# average purchase per person \n",
    "avg_purchase_per_person_age = total_purchase_value/age_total_count\n",
    "\n",
    "# dataframe for different value\n",
    "age_demographics = pd.DataFrame({\"Purchase Count\": purchase_count_age,\n",
    "                                 \"Average Purchase Price\": avg_purchase_price_age,\n",
    "                                 \"Total Purchase Value\":total_purchase_value,\n",
    "                                 \"Average Purchase Total per Person\": avg_purchase_per_person_age})\n",
    "\n",
    "# add \"Age Ranges\" as title\n",
    "age_demographics.index.name = \"Age Ranges\"\n",
    "\n",
    "# add currency format to data\n",
    "age_demographics.style.format({\"Average Purchase Price\":\"${:,.2f}\",\n",
    "                               \"Total Purchase Value\":\"${:,.2f}\",\n",
    "                               \"Average Purchase Total per Person\":\"${:,.2f}\"})"
   ]
  },
  {
   "cell_type": "markdown",
   "metadata": {},
   "source": [
    "## Top Spenders"
   ]
  },
  {
   "cell_type": "markdown",
   "metadata": {},
   "source": [
    "* Run basic calculations to obtain the results in the table below\n",
    "\n",
    "\n",
    "* Create a summary data frame to hold the results\n",
    "\n",
    "\n",
    "* Sort the total purchase value column in descending order\n",
    "\n",
    "\n",
    "* Optional: give the displayed data cleaner formatting\n",
    "\n",
    "\n",
    "* Display a preview of the summary data frame\n",
    "\n"
   ]
  },
  {
   "cell_type": "code",
   "execution_count": 9,
   "metadata": {},
   "outputs": [
    {
     "data": {
      "text/html": [
       "<style  type=\"text/css\" >\n",
       "</style><table id=\"T_6b8bc736_3d27_11eb_a655_302432edff6b\" ><thead>    <tr>        <th class=\"blank level0\" ></th>        <th class=\"col_heading level0 col0\" >Purchase Count</th>        <th class=\"col_heading level0 col1\" >Average Purchase Price</th>        <th class=\"col_heading level0 col2\" >Total Purchase Value</th>    </tr>    <tr>        <th class=\"index_name level0\" >SN</th>        <th class=\"blank\" ></th>        <th class=\"blank\" ></th>        <th class=\"blank\" ></th>    </tr></thead><tbody>\n",
       "                <tr>\n",
       "                        <th id=\"T_6b8bc736_3d27_11eb_a655_302432edff6blevel0_row0\" class=\"row_heading level0 row0\" >Lisosia93</th>\n",
       "                        <td id=\"T_6b8bc736_3d27_11eb_a655_302432edff6brow0_col0\" class=\"data row0 col0\" >5</td>\n",
       "                        <td id=\"T_6b8bc736_3d27_11eb_a655_302432edff6brow0_col1\" class=\"data row0 col1\" >$3.79</td>\n",
       "                        <td id=\"T_6b8bc736_3d27_11eb_a655_302432edff6brow0_col2\" class=\"data row0 col2\" >$18.96</td>\n",
       "            </tr>\n",
       "            <tr>\n",
       "                        <th id=\"T_6b8bc736_3d27_11eb_a655_302432edff6blevel0_row1\" class=\"row_heading level0 row1\" >Idastidru52</th>\n",
       "                        <td id=\"T_6b8bc736_3d27_11eb_a655_302432edff6brow1_col0\" class=\"data row1 col0\" >4</td>\n",
       "                        <td id=\"T_6b8bc736_3d27_11eb_a655_302432edff6brow1_col1\" class=\"data row1 col1\" >$3.86</td>\n",
       "                        <td id=\"T_6b8bc736_3d27_11eb_a655_302432edff6brow1_col2\" class=\"data row1 col2\" >$15.45</td>\n",
       "            </tr>\n",
       "            <tr>\n",
       "                        <th id=\"T_6b8bc736_3d27_11eb_a655_302432edff6blevel0_row2\" class=\"row_heading level0 row2\" >Chamjask73</th>\n",
       "                        <td id=\"T_6b8bc736_3d27_11eb_a655_302432edff6brow2_col0\" class=\"data row2 col0\" >3</td>\n",
       "                        <td id=\"T_6b8bc736_3d27_11eb_a655_302432edff6brow2_col1\" class=\"data row2 col1\" >$4.61</td>\n",
       "                        <td id=\"T_6b8bc736_3d27_11eb_a655_302432edff6brow2_col2\" class=\"data row2 col2\" >$13.83</td>\n",
       "            </tr>\n",
       "            <tr>\n",
       "                        <th id=\"T_6b8bc736_3d27_11eb_a655_302432edff6blevel0_row3\" class=\"row_heading level0 row3\" >Iral74</th>\n",
       "                        <td id=\"T_6b8bc736_3d27_11eb_a655_302432edff6brow3_col0\" class=\"data row3 col0\" >4</td>\n",
       "                        <td id=\"T_6b8bc736_3d27_11eb_a655_302432edff6brow3_col1\" class=\"data row3 col1\" >$3.40</td>\n",
       "                        <td id=\"T_6b8bc736_3d27_11eb_a655_302432edff6brow3_col2\" class=\"data row3 col2\" >$13.62</td>\n",
       "            </tr>\n",
       "            <tr>\n",
       "                        <th id=\"T_6b8bc736_3d27_11eb_a655_302432edff6blevel0_row4\" class=\"row_heading level0 row4\" >Iskadarya95</th>\n",
       "                        <td id=\"T_6b8bc736_3d27_11eb_a655_302432edff6brow4_col0\" class=\"data row4 col0\" >3</td>\n",
       "                        <td id=\"T_6b8bc736_3d27_11eb_a655_302432edff6brow4_col1\" class=\"data row4 col1\" >$4.37</td>\n",
       "                        <td id=\"T_6b8bc736_3d27_11eb_a655_302432edff6brow4_col2\" class=\"data row4 col2\" >$13.10</td>\n",
       "            </tr>\n",
       "    </tbody></table>"
      ],
      "text/plain": [
       "<pandas.io.formats.style.Styler at 0x13b1c13c4e0>"
      ]
     },
     "execution_count": 9,
     "metadata": {},
     "output_type": "execute_result"
    }
   ],
   "source": [
    "# group screen name info\n",
    "spender_info = purchase_data.groupby(\"SN\")\n",
    "\n",
    "# total purchase by name\n",
    "purchase_count = spender_info[\"Purchase ID\"].count()\n",
    "\n",
    "# average purchase by name \n",
    "avg_purchase_price = spender_info[\"Price\"].mean()\n",
    "\n",
    "# Calculate purchase total \n",
    "purchase_total = spender_info[\"Price\"].sum()\n",
    "\n",
    "# data frame for top spenders\n",
    "top_spenders = pd.DataFrame({\"Purchase Count\": purchase_count,\n",
    "                             \"Average Purchase Price\": avg_purchase_price,\n",
    "                             \"Total Purchase Value\":purchase_total})\n",
    "\n",
    "# descending order for total purchase value\n",
    "format_spenders = top_spenders.sort_values([\"Total Purchase Value\"], ascending=False).head()\n",
    "\n",
    "# add currency format to data\n",
    "format_spenders.style.format({\"Average Purchase Total\":\"${:,.2f}\",\n",
    "                                 \"Average Purchase Price\":\"${:,.2f}\", \n",
    "                                 \"Total Purchase Value\":\"${:,.2f}\"})"
   ]
  },
  {
   "cell_type": "markdown",
   "metadata": {},
   "source": [
    "## Most Popular Items"
   ]
  },
  {
   "cell_type": "markdown",
   "metadata": {},
   "source": [
    "* Retrieve the Item ID, Item Name, and Item Price columns\n",
    "\n",
    "\n",
    "* Group by Item ID and Item Name. Perform calculations to obtain purchase count, item price, and total purchase value\n",
    "\n",
    "\n",
    "* Create a summary data frame to hold the results\n",
    "\n",
    "\n",
    "* Sort the purchase count column in descending order\n",
    "\n",
    "\n",
    "* Optional: give the displayed data cleaner formatting\n",
    "\n",
    "\n",
    "* Display a preview of the summary data frame\n",
    "\n"
   ]
  },
  {
   "cell_type": "code",
   "execution_count": 10,
   "metadata": {},
   "outputs": [
    {
     "data": {
      "text/html": [
       "<style  type=\"text/css\" >\n",
       "</style><table id=\"T_6b911ac6_3d27_11eb_8dfa_302432edff6b\" ><thead>    <tr>        <th class=\"blank\" ></th>        <th class=\"blank level0\" ></th>        <th class=\"col_heading level0 col0\" >Purchase Count</th>        <th class=\"col_heading level0 col1\" >Item Price</th>        <th class=\"col_heading level0 col2\" >Total Purchase Value</th>    </tr>    <tr>        <th class=\"index_name level0\" >Item ID</th>        <th class=\"index_name level1\" >Item Name</th>        <th class=\"blank\" ></th>        <th class=\"blank\" ></th>        <th class=\"blank\" ></th>    </tr></thead><tbody>\n",
       "                <tr>\n",
       "                        <th id=\"T_6b911ac6_3d27_11eb_8dfa_302432edff6blevel0_row0\" class=\"row_heading level0 row0\" >92</th>\n",
       "                        <th id=\"T_6b911ac6_3d27_11eb_8dfa_302432edff6blevel1_row0\" class=\"row_heading level1 row0\" >Final Critic</th>\n",
       "                        <td id=\"T_6b911ac6_3d27_11eb_8dfa_302432edff6brow0_col0\" class=\"data row0 col0\" >13</td>\n",
       "                        <td id=\"T_6b911ac6_3d27_11eb_8dfa_302432edff6brow0_col1\" class=\"data row0 col1\" >$4.61</td>\n",
       "                        <td id=\"T_6b911ac6_3d27_11eb_8dfa_302432edff6brow0_col2\" class=\"data row0 col2\" >$59.99</td>\n",
       "            </tr>\n",
       "            <tr>\n",
       "                        <th id=\"T_6b911ac6_3d27_11eb_8dfa_302432edff6blevel0_row1\" class=\"row_heading level0 row1\" >178</th>\n",
       "                        <th id=\"T_6b911ac6_3d27_11eb_8dfa_302432edff6blevel1_row1\" class=\"row_heading level1 row1\" >Oathbreaker, Last Hope of the Breaking Storm</th>\n",
       "                        <td id=\"T_6b911ac6_3d27_11eb_8dfa_302432edff6brow1_col0\" class=\"data row1 col0\" >12</td>\n",
       "                        <td id=\"T_6b911ac6_3d27_11eb_8dfa_302432edff6brow1_col1\" class=\"data row1 col1\" >$4.23</td>\n",
       "                        <td id=\"T_6b911ac6_3d27_11eb_8dfa_302432edff6brow1_col2\" class=\"data row1 col2\" >$50.76</td>\n",
       "            </tr>\n",
       "            <tr>\n",
       "                        <th id=\"T_6b911ac6_3d27_11eb_8dfa_302432edff6blevel0_row2\" class=\"row_heading level0 row2\" >145</th>\n",
       "                        <th id=\"T_6b911ac6_3d27_11eb_8dfa_302432edff6blevel1_row2\" class=\"row_heading level1 row2\" >Fiery Glass Crusader</th>\n",
       "                        <td id=\"T_6b911ac6_3d27_11eb_8dfa_302432edff6brow2_col0\" class=\"data row2 col0\" >9</td>\n",
       "                        <td id=\"T_6b911ac6_3d27_11eb_8dfa_302432edff6brow2_col1\" class=\"data row2 col1\" >$4.58</td>\n",
       "                        <td id=\"T_6b911ac6_3d27_11eb_8dfa_302432edff6brow2_col2\" class=\"data row2 col2\" >$41.22</td>\n",
       "            </tr>\n",
       "            <tr>\n",
       "                        <th id=\"T_6b911ac6_3d27_11eb_8dfa_302432edff6blevel0_row3\" class=\"row_heading level0 row3\" >132</th>\n",
       "                        <th id=\"T_6b911ac6_3d27_11eb_8dfa_302432edff6blevel1_row3\" class=\"row_heading level1 row3\" >Persuasion</th>\n",
       "                        <td id=\"T_6b911ac6_3d27_11eb_8dfa_302432edff6brow3_col0\" class=\"data row3 col0\" >9</td>\n",
       "                        <td id=\"T_6b911ac6_3d27_11eb_8dfa_302432edff6brow3_col1\" class=\"data row3 col1\" >$3.22</td>\n",
       "                        <td id=\"T_6b911ac6_3d27_11eb_8dfa_302432edff6brow3_col2\" class=\"data row3 col2\" >$28.99</td>\n",
       "            </tr>\n",
       "            <tr>\n",
       "                        <th id=\"T_6b911ac6_3d27_11eb_8dfa_302432edff6blevel0_row4\" class=\"row_heading level0 row4\" >108</th>\n",
       "                        <th id=\"T_6b911ac6_3d27_11eb_8dfa_302432edff6blevel1_row4\" class=\"row_heading level1 row4\" >Extraction, Quickblade Of Trembling Hands</th>\n",
       "                        <td id=\"T_6b911ac6_3d27_11eb_8dfa_302432edff6brow4_col0\" class=\"data row4 col0\" >9</td>\n",
       "                        <td id=\"T_6b911ac6_3d27_11eb_8dfa_302432edff6brow4_col1\" class=\"data row4 col1\" >$3.53</td>\n",
       "                        <td id=\"T_6b911ac6_3d27_11eb_8dfa_302432edff6brow4_col2\" class=\"data row4 col2\" >$31.77</td>\n",
       "            </tr>\n",
       "    </tbody></table>"
      ],
      "text/plain": [
       "<pandas.io.formats.style.Styler at 0x13b1c13c828>"
      ]
     },
     "execution_count": 10,
     "metadata": {},
     "output_type": "execute_result"
    }
   ],
   "source": [
    "# Retrieve the Item ID, Item Name, and Item Price columns\n",
    "items = purchase_data[[\"Item ID\", \"Item Name\", \"Price\"]]\n",
    "\n",
    "# Group by item ID and item Name\n",
    "item_info = items.groupby([\"Item ID\",\"Item Name\"])\n",
    "\n",
    "# calculate for purchase count\n",
    "purchase_count = item_info[\"Price\"].count()\n",
    "\n",
    "# calculate total purchase value\n",
    "purchase_value = (item_info[\"Price\"].sum())\n",
    "\n",
    "# calculate item price\n",
    "item_price = purchase_value/purchase_count \n",
    "\n",
    "# summary data frame to hold the results\n",
    "most_popular_items = pd.DataFrame({\"Purchase Count\": purchase_count, \n",
    "                                   \"Item Price\": item_price,\n",
    "                                   \"Total Purchase Value\":purchase_value})\n",
    "\n",
    "#Sort the purchase count column in descending order\n",
    "popular_format = most_popular_items.sort_values([\"Purchase Count\"], ascending=False).head()\n",
    "\n",
    "# add currency format to data\n",
    "popular_format.style.format({\"Item Price\":\"${:,.2f}\",\n",
    "                             \"Total Purchase Value\":\"${:,.2f}\"})"
   ]
  },
  {
   "cell_type": "markdown",
   "metadata": {},
   "source": [
    "## Most Profitable Items"
   ]
  },
  {
   "cell_type": "markdown",
   "metadata": {},
   "source": [
    "* Sort the above table by total purchase value in descending order\n",
    "\n",
    "\n",
    "* Optional: give the displayed data cleaner formatting\n",
    "\n",
    "\n",
    "* Display a preview of the data frame\n",
    "\n"
   ]
  },
  {
   "cell_type": "code",
   "execution_count": 11,
   "metadata": {
    "scrolled": true
   },
   "outputs": [
    {
     "data": {
      "text/html": [
       "<style  type=\"text/css\" >\n",
       "</style><table id=\"T_6b944d12_3d27_11eb_aa2b_302432edff6b\" ><thead>    <tr>        <th class=\"blank\" ></th>        <th class=\"blank level0\" ></th>        <th class=\"col_heading level0 col0\" >Purchase Count</th>        <th class=\"col_heading level0 col1\" >Item Price</th>        <th class=\"col_heading level0 col2\" >Total Purchase Value</th>    </tr>    <tr>        <th class=\"index_name level0\" >Item ID</th>        <th class=\"index_name level1\" >Item Name</th>        <th class=\"blank\" ></th>        <th class=\"blank\" ></th>        <th class=\"blank\" ></th>    </tr></thead><tbody>\n",
       "                <tr>\n",
       "                        <th id=\"T_6b944d12_3d27_11eb_aa2b_302432edff6blevel0_row0\" class=\"row_heading level0 row0\" >92</th>\n",
       "                        <th id=\"T_6b944d12_3d27_11eb_aa2b_302432edff6blevel1_row0\" class=\"row_heading level1 row0\" >Final Critic</th>\n",
       "                        <td id=\"T_6b944d12_3d27_11eb_aa2b_302432edff6brow0_col0\" class=\"data row0 col0\" >13</td>\n",
       "                        <td id=\"T_6b944d12_3d27_11eb_aa2b_302432edff6brow0_col1\" class=\"data row0 col1\" >$4.61</td>\n",
       "                        <td id=\"T_6b944d12_3d27_11eb_aa2b_302432edff6brow0_col2\" class=\"data row0 col2\" >$59.99</td>\n",
       "            </tr>\n",
       "            <tr>\n",
       "                        <th id=\"T_6b944d12_3d27_11eb_aa2b_302432edff6blevel0_row1\" class=\"row_heading level0 row1\" >178</th>\n",
       "                        <th id=\"T_6b944d12_3d27_11eb_aa2b_302432edff6blevel1_row1\" class=\"row_heading level1 row1\" >Oathbreaker, Last Hope of the Breaking Storm</th>\n",
       "                        <td id=\"T_6b944d12_3d27_11eb_aa2b_302432edff6brow1_col0\" class=\"data row1 col0\" >12</td>\n",
       "                        <td id=\"T_6b944d12_3d27_11eb_aa2b_302432edff6brow1_col1\" class=\"data row1 col1\" >$4.23</td>\n",
       "                        <td id=\"T_6b944d12_3d27_11eb_aa2b_302432edff6brow1_col2\" class=\"data row1 col2\" >$50.76</td>\n",
       "            </tr>\n",
       "            <tr>\n",
       "                        <th id=\"T_6b944d12_3d27_11eb_aa2b_302432edff6blevel0_row2\" class=\"row_heading level0 row2\" >82</th>\n",
       "                        <th id=\"T_6b944d12_3d27_11eb_aa2b_302432edff6blevel1_row2\" class=\"row_heading level1 row2\" >Nirvana</th>\n",
       "                        <td id=\"T_6b944d12_3d27_11eb_aa2b_302432edff6brow2_col0\" class=\"data row2 col0\" >9</td>\n",
       "                        <td id=\"T_6b944d12_3d27_11eb_aa2b_302432edff6brow2_col1\" class=\"data row2 col1\" >$4.90</td>\n",
       "                        <td id=\"T_6b944d12_3d27_11eb_aa2b_302432edff6brow2_col2\" class=\"data row2 col2\" >$44.10</td>\n",
       "            </tr>\n",
       "            <tr>\n",
       "                        <th id=\"T_6b944d12_3d27_11eb_aa2b_302432edff6blevel0_row3\" class=\"row_heading level0 row3\" >145</th>\n",
       "                        <th id=\"T_6b944d12_3d27_11eb_aa2b_302432edff6blevel1_row3\" class=\"row_heading level1 row3\" >Fiery Glass Crusader</th>\n",
       "                        <td id=\"T_6b944d12_3d27_11eb_aa2b_302432edff6brow3_col0\" class=\"data row3 col0\" >9</td>\n",
       "                        <td id=\"T_6b944d12_3d27_11eb_aa2b_302432edff6brow3_col1\" class=\"data row3 col1\" >$4.58</td>\n",
       "                        <td id=\"T_6b944d12_3d27_11eb_aa2b_302432edff6brow3_col2\" class=\"data row3 col2\" >$41.22</td>\n",
       "            </tr>\n",
       "            <tr>\n",
       "                        <th id=\"T_6b944d12_3d27_11eb_aa2b_302432edff6blevel0_row4\" class=\"row_heading level0 row4\" >103</th>\n",
       "                        <th id=\"T_6b944d12_3d27_11eb_aa2b_302432edff6blevel1_row4\" class=\"row_heading level1 row4\" >Singed Scalpel</th>\n",
       "                        <td id=\"T_6b944d12_3d27_11eb_aa2b_302432edff6brow4_col0\" class=\"data row4 col0\" >8</td>\n",
       "                        <td id=\"T_6b944d12_3d27_11eb_aa2b_302432edff6brow4_col1\" class=\"data row4 col1\" >$4.35</td>\n",
       "                        <td id=\"T_6b944d12_3d27_11eb_aa2b_302432edff6brow4_col2\" class=\"data row4 col2\" >$34.80</td>\n",
       "            </tr>\n",
       "    </tbody></table>"
      ],
      "text/plain": [
       "<pandas.io.formats.style.Styler at 0x13b1b040668>"
      ]
     },
     "execution_count": 11,
     "metadata": {},
     "output_type": "execute_result"
    }
   ],
   "source": [
    "# Sort the above table by total purchase value in descending order\n",
    "popular_format = most_popular_items.sort_values([\"Total Purchase Value\"], ascending=False).head()\n",
    "\n",
    "# add currency format to data\n",
    "popular_format.style.format({\"Item Price\":\"${:,.2f}\",\n",
    "                             \"Total Purchase Value\":\"${:,.2f}\"})"
   ]
  },
  {
   "cell_type": "code",
   "execution_count": null,
   "metadata": {},
   "outputs": [],
   "source": []
  }
 ],
 "metadata": {
  "anaconda-cloud": {},
  "kernel_info": {
   "name": "python3"
  },
  "kernelspec": {
   "display_name": "Python [conda env:PythonData]",
   "language": "python",
   "name": "conda-env-PythonData-py"
  },
  "language_info": {
   "codemirror_mode": {
    "name": "ipython",
    "version": 3
   },
   "file_extension": ".py",
   "mimetype": "text/x-python",
   "name": "python",
   "nbconvert_exporter": "python",
   "pygments_lexer": "ipython3",
   "version": "3.6.10"
  },
  "latex_envs": {
   "LaTeX_envs_menu_present": true,
   "autoclose": false,
   "autocomplete": true,
   "bibliofile": "biblio.bib",
   "cite_by": "apalike",
   "current_citInitial": 1,
   "eqLabelWithNumbers": true,
   "eqNumInitial": 1,
   "hotkeys": {
    "equation": "Ctrl-E",
    "itemize": "Ctrl-I"
   },
   "labels_anchors": false,
   "latex_user_defs": false,
   "report_style_numbering": false,
   "user_envs_cfg": false
  },
  "nteract": {
   "version": "0.2.0"
  }
 },
 "nbformat": 4,
 "nbformat_minor": 2
}
